{
 "cells": [
  {
   "cell_type": "code",
   "execution_count": 1,
   "metadata": {},
   "outputs": [],
   "source": [
    "import pickle\n",
    "import pandas as pd\n",
    "from xgboost import XGBClassifier\n",
    "from sklearn.metrics import precision_recall_fscore_support"
   ]
  },
  {
   "cell_type": "code",
   "execution_count": 2,
   "metadata": {},
   "outputs": [],
   "source": [
    "with open(\"objects/scaler.obj\", \"rb\") as obj_handler:\n",
    "    scaler = pickle.load(obj_handler)\n",
    "with open(\"objects/encoders.obj\", \"rb\") as obj_handler:\n",
    "    encoders = pickle.load(obj_handler)"
   ]
  },
  {
   "cell_type": "code",
   "execution_count": 3,
   "metadata": {},
   "outputs": [],
   "source": [
    "model = XGBClassifier()\n",
    "model.load_model(fname=\"objects/xgb_model.json\")"
   ]
  },
  {
   "cell_type": "markdown",
   "metadata": {},
   "source": [
    "To use the model to predict credit card approval decision, modify the following dictionary and re-run the code."
   ]
  },
  {
   "cell_type": "code",
   "execution_count": 6,
   "metadata": {},
   "outputs": [
    {
     "data": {
      "text/html": [
       "<div>\n",
       "<style scoped>\n",
       "    .dataframe tbody tr th:only-of-type {\n",
       "        vertical-align: middle;\n",
       "    }\n",
       "\n",
       "    .dataframe tbody tr th {\n",
       "        vertical-align: top;\n",
       "    }\n",
       "\n",
       "    .dataframe thead th {\n",
       "        text-align: right;\n",
       "    }\n",
       "</style>\n",
       "<table border=\"1\" class=\"dataframe\">\n",
       "  <thead>\n",
       "    <tr style=\"text-align: right;\">\n",
       "      <th></th>\n",
       "      <th>CODE_GENDER</th>\n",
       "      <th>FLAG_OWN_CAR</th>\n",
       "      <th>FLAG_OWN_REALTY</th>\n",
       "      <th>CNT_CHILDREN</th>\n",
       "      <th>AMT_INCOME_TOTAL</th>\n",
       "      <th>NAME_INCOME_TYPE</th>\n",
       "      <th>NAME_EDUCATION_TYPE</th>\n",
       "      <th>NAME_FAMILY_STATUS</th>\n",
       "      <th>NAME_HOUSING_TYPE</th>\n",
       "      <th>DAYS_BIRTH</th>\n",
       "      <th>DAYS_EMPLOYED</th>\n",
       "      <th>FLAG_MOBIL</th>\n",
       "      <th>FLAG_WORK_PHONE</th>\n",
       "      <th>FLAG_PHONE</th>\n",
       "      <th>FLAG_EMAIL</th>\n",
       "      <th>OCCUPATION_TYPE</th>\n",
       "      <th>CNT_FAM_MEMBERS</th>\n",
       "    </tr>\n",
       "  </thead>\n",
       "  <tbody>\n",
       "    <tr>\n",
       "      <th>0</th>\n",
       "      <td>0</td>\n",
       "      <td>1</td>\n",
       "      <td>0</td>\n",
       "      <td>0</td>\n",
       "      <td>148500</td>\n",
       "      <td>2</td>\n",
       "      <td>2</td>\n",
       "      <td>2</td>\n",
       "      <td>4</td>\n",
       "      <td>-11505</td>\n",
       "      <td>-1850</td>\n",
       "      <td>1</td>\n",
       "      <td>1</td>\n",
       "      <td>1</td>\n",
       "      <td>1</td>\n",
       "      <td>4</td>\n",
       "      <td>3</td>\n",
       "    </tr>\n",
       "  </tbody>\n",
       "</table>\n",
       "</div>"
      ],
      "text/plain": [
       "   CODE_GENDER  FLAG_OWN_CAR  FLAG_OWN_REALTY  CNT_CHILDREN  AMT_INCOME_TOTAL  \\\n",
       "0            0             1                0             0            148500   \n",
       "\n",
       "   NAME_INCOME_TYPE  NAME_EDUCATION_TYPE  NAME_FAMILY_STATUS  \\\n",
       "0                 2                    2                   2   \n",
       "\n",
       "   NAME_HOUSING_TYPE  DAYS_BIRTH  DAYS_EMPLOYED  FLAG_MOBIL  FLAG_WORK_PHONE  \\\n",
       "0                  4      -11505          -1850           1                1   \n",
       "\n",
       "   FLAG_PHONE  FLAG_EMAIL  OCCUPATION_TYPE  CNT_FAM_MEMBERS  \n",
       "0           1           1                4                3  "
      ]
     },
     "execution_count": 6,
     "metadata": {},
     "output_type": "execute_result"
    }
   ],
   "source": [
    "# TODO: Built a web app with a proper form embedded for prediction\n",
    "application = pd.DataFrame(\n",
    "    {\n",
    "        \"CODE_GENDER\": [\"F\"],\n",
    "        \"FLAG_OWN_CAR\": [\"Y\"],\n",
    "        \"FLAG_OWN_REALTY\": [\"N\"],\n",
    "        \"CNT_CHILDREN\": [0],\n",
    "        \"AMT_INCOME_TOTAL\": [148500],\n",
    "        \"NAME_INCOME_TYPE\": [\"State servant\"],\n",
    "        \"NAME_EDUCATION_TYPE\": [\"Incomplete higher\"],\n",
    "        \"NAME_FAMILY_STATUS\": [\"Separated\"],\n",
    "        \"NAME_HOUSING_TYPE\": [\"Rented apartment\"],\n",
    "        \"DAYS_BIRTH\": [-11505],\n",
    "        \"DAYS_EMPLOYED\": [-1850],\n",
    "        \"FLAG_MOBIL\": [1],\n",
    "        \"FLAG_WORK_PHONE\": [1],\n",
    "        \"FLAG_PHONE\": [1],\n",
    "        \"FLAG_EMAIL\": [1],\n",
    "        \"OCCUPATION_TYPE\": [\"Drivers\"],\n",
    "        \"CNT_FAM_MEMBERS\": [3]\n",
    "    }\n",
    ")\n",
    "application_cat_cols = list(encoders.keys())\n",
    "application[application_cat_cols] = application[application_cat_cols].apply(lambda series: pd.Series(\n",
    "    encoders[series.name].transform(series[series.notnull()]),\n",
    "    index=series[series.notnull()].index\n",
    "))\n",
    "application"
   ]
  },
  {
   "cell_type": "code",
   "execution_count": 5,
   "metadata": {},
   "outputs": [
    {
     "name": "stdout",
     "output_type": "stream",
     "text": [
      "Approval Probability: 44.94%\n"
     ]
    }
   ],
   "source": [
    "x = scaler.transform(application)\n",
    "y = model.predict_proba(x)\n",
    "\n",
    "print(f\"Approval Probability: {y[0][0]:.2%}\")"
   ]
  }
 ],
 "metadata": {
  "kernelspec": {
   "display_name": "Python 3.9.10 ('DS')",
   "language": "python",
   "name": "python3"
  },
  "language_info": {
   "codemirror_mode": {
    "name": "ipython",
    "version": 3
   },
   "file_extension": ".py",
   "mimetype": "text/x-python",
   "name": "python",
   "nbconvert_exporter": "python",
   "pygments_lexer": "ipython3",
   "version": "3.9.10"
  },
  "orig_nbformat": 4,
  "vscode": {
   "interpreter": {
    "hash": "46fad40c4909a58241b074ad61e3fed4262ee776d007ec4aa69056ad9c806961"
   }
  }
 },
 "nbformat": 4,
 "nbformat_minor": 2
}
